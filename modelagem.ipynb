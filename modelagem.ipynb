{
  "cells": [
    {
      "cell_type": "markdown",
      "metadata": {
        "id": "view-in-github",
        "colab_type": "text"
      },
      "source": [
        "<a href=\"https://colab.research.google.com/github/LuizBattaglia/DoubleTea/blob/master/modelagem.ipynb\" target=\"_parent\"><img src=\"https://colab.research.google.com/assets/colab-badge.svg\" alt=\"Open In Colab\"/></a>"
      ]
    },
    {
      "cell_type": "markdown",
      "id": "d4a58047",
      "metadata": {
        "id": "d4a58047"
      },
      "source": [
        "# Programação em Python para Análise de Dados\n",
        "\n",
        "###  Modelagem"
      ]
    },
    {
      "cell_type": "code",
      "execution_count": null,
      "id": "5820499a",
      "metadata": {
        "id": "5820499a"
      },
      "outputs": [],
      "source": [
        "from matplotlib import pyplot as plt\n",
        "import pandas as pd\n",
        "import numpy as np\n",
        "import wooldridge as woo\n",
        "import statsmodels.formula.api as smf\n",
        "import seaborn as sns\n",
        "import pmdarima as pm\n",
        "\n",
        "plt.rcParams['figure.dpi'] = 200"
      ]
    },
    {
      "cell_type": "markdown",
      "id": "b27c3e8a",
      "metadata": {
        "id": "b27c3e8a"
      },
      "source": [
        "## Regressão Linear\n",
        "\n",
        "Uma maneira simples e poderosa de resumir o relacionamento (de preferência linear) de duas variáveis é através de um modelo linear, que podemos expressar como:\n",
        "\n",
        "\\begin{align}\n",
        "Y_i = \\beta_0 + \\beta X_i + \\epsilon_i\n",
        "\\end{align}\n",
        "\n",
        "Onde $Y_i$ é o que chamamos de variável de reposta, variável explicada ou variável dependente. $\\beta_0$ é uma constante, $\\beta$ é o parâmetro que dá a magnitude em que uma variação de $X$, que chamamos de variável explicativa, covariada ou variável independente, leva a variável de resposta a variar. Por fim, $\\epsilon_i$ é um termo de erro, $i$ é um índice para indexar observações da amostra. Normalmente assumimos que $\\epsilon \\sim N(0,\\sigma^2)$. Essa hipótese de normalidade dos erros faz com que a distribuição da variável de resposta seja normal, com média $\\mu_{Y | X} = \\beta_0 + \\beta_i$ e variância $\\sigma^2$.\n",
        "\n",
        "Em um modelo de regressão linear simples, podemos estimar o parâmetro $\\beta$ rapidamente através do estimador de Mínimos Quadrados Ordinários:\n",
        "\n",
        "\\begin{align}\n",
        "\\hat{\\beta} = \\text{arg min}_{\\beta} \\sum_{i=1}^n (y_i - \\beta x_i)^2\n",
        "\\end{align}\n",
        "\n"
      ]
    },
    {
      "cell_type": "markdown",
      "id": "98525687",
      "metadata": {
        "id": "98525687"
      },
      "source": [
        "Podemos estender esse modelo para contemplar múltiplas variáveis como regressores. A regressão múltipla nos abre portas para tentar modelar variáveis que dependem de várias outras. Essas outras variáveis podem ser diferentes, potências de uma variável que já temos, funções delas... As possibilidades são grandes. Boa parte do aparato da regressão linear simples se mantém no caso com várias variáveis.\n",
        "\n",
        "De uma maneira bem geral, os modelos agora terão essa forma:\n",
        "\n",
        "\\begin{align}\n",
        "y_i = \\beta_0 + \\beta_1 x_1 + \\beta_2 x_2 + ... + \\beta_p x_p + \\epsilon_i\n",
        "\\end{align}\n",
        "\n",
        "Temos agora $p + 1$ parâmetros em uma forma funcional linear. Agora entendemos que os valores de $y_i$ são amostras independentes de uma distribuição normal com média $\\beta_0 + \\beta_1 x_1 + \\beta_2 x_2 + ... + \\beta_p x_p$ e variância $\\sigma^2$. Se os valores das variáveis $x_i$ são aleatórios, isso também é verdade para as médias condicionais.\n",
        "\n",
        "\n",
        "\n",
        "Esse estimador está implementado no Python, através da função \"ols\" do pacote *statsmodels*. Já a tabela de saída, com os principais resultados da regressão, é feito com a função \"summary\".\n",
        "\n",
        "Para mostrar isso, vamos utilizar uma base de dados com várias características de pessoas, incluindo salário por hora, educação e experiência. Assim, iremos estimar um modelo com o salário como variável dependente (Y) e educação e experiência como indepentes (X)."
      ]
    },
    {
      "cell_type": "code",
      "execution_count": null,
      "id": "ab3ce7a0",
      "metadata": {
        "id": "ab3ce7a0",
        "outputId": "6c58d907-533c-4e88-a157-842659c33ac3"
      },
      "outputs": [
        {
          "data": {
            "text/html": [
              "<div>\n",
              "<style scoped>\n",
              "    .dataframe tbody tr th:only-of-type {\n",
              "        vertical-align: middle;\n",
              "    }\n",
              "\n",
              "    .dataframe tbody tr th {\n",
              "        vertical-align: top;\n",
              "    }\n",
              "\n",
              "    .dataframe thead th {\n",
              "        text-align: right;\n",
              "    }\n",
              "</style>\n",
              "<table border=\"1\" class=\"dataframe\">\n",
              "  <thead>\n",
              "    <tr style=\"text-align: right;\">\n",
              "      <th></th>\n",
              "      <th>wage</th>\n",
              "      <th>educ</th>\n",
              "      <th>exper</th>\n",
              "      <th>tenure</th>\n",
              "      <th>nonwhite</th>\n",
              "      <th>female</th>\n",
              "      <th>married</th>\n",
              "      <th>numdep</th>\n",
              "      <th>smsa</th>\n",
              "      <th>northcen</th>\n",
              "      <th>...</th>\n",
              "      <th>trcommpu</th>\n",
              "      <th>trade</th>\n",
              "      <th>services</th>\n",
              "      <th>profserv</th>\n",
              "      <th>profocc</th>\n",
              "      <th>clerocc</th>\n",
              "      <th>servocc</th>\n",
              "      <th>lwage</th>\n",
              "      <th>expersq</th>\n",
              "      <th>tenursq</th>\n",
              "    </tr>\n",
              "  </thead>\n",
              "  <tbody>\n",
              "    <tr>\n",
              "      <th>0</th>\n",
              "      <td>3.10</td>\n",
              "      <td>11</td>\n",
              "      <td>2</td>\n",
              "      <td>0</td>\n",
              "      <td>0</td>\n",
              "      <td>1</td>\n",
              "      <td>0</td>\n",
              "      <td>2</td>\n",
              "      <td>1</td>\n",
              "      <td>0</td>\n",
              "      <td>...</td>\n",
              "      <td>0</td>\n",
              "      <td>0</td>\n",
              "      <td>0</td>\n",
              "      <td>0</td>\n",
              "      <td>0</td>\n",
              "      <td>0</td>\n",
              "      <td>0</td>\n",
              "      <td>1.131402</td>\n",
              "      <td>4</td>\n",
              "      <td>0</td>\n",
              "    </tr>\n",
              "    <tr>\n",
              "      <th>1</th>\n",
              "      <td>3.24</td>\n",
              "      <td>12</td>\n",
              "      <td>22</td>\n",
              "      <td>2</td>\n",
              "      <td>0</td>\n",
              "      <td>1</td>\n",
              "      <td>1</td>\n",
              "      <td>3</td>\n",
              "      <td>1</td>\n",
              "      <td>0</td>\n",
              "      <td>...</td>\n",
              "      <td>0</td>\n",
              "      <td>0</td>\n",
              "      <td>1</td>\n",
              "      <td>0</td>\n",
              "      <td>0</td>\n",
              "      <td>0</td>\n",
              "      <td>1</td>\n",
              "      <td>1.175573</td>\n",
              "      <td>484</td>\n",
              "      <td>4</td>\n",
              "    </tr>\n",
              "    <tr>\n",
              "      <th>2</th>\n",
              "      <td>3.00</td>\n",
              "      <td>11</td>\n",
              "      <td>2</td>\n",
              "      <td>0</td>\n",
              "      <td>0</td>\n",
              "      <td>0</td>\n",
              "      <td>0</td>\n",
              "      <td>2</td>\n",
              "      <td>0</td>\n",
              "      <td>0</td>\n",
              "      <td>...</td>\n",
              "      <td>0</td>\n",
              "      <td>1</td>\n",
              "      <td>0</td>\n",
              "      <td>0</td>\n",
              "      <td>0</td>\n",
              "      <td>0</td>\n",
              "      <td>0</td>\n",
              "      <td>1.098612</td>\n",
              "      <td>4</td>\n",
              "      <td>0</td>\n",
              "    </tr>\n",
              "    <tr>\n",
              "      <th>3</th>\n",
              "      <td>6.00</td>\n",
              "      <td>8</td>\n",
              "      <td>44</td>\n",
              "      <td>28</td>\n",
              "      <td>0</td>\n",
              "      <td>0</td>\n",
              "      <td>1</td>\n",
              "      <td>0</td>\n",
              "      <td>1</td>\n",
              "      <td>0</td>\n",
              "      <td>...</td>\n",
              "      <td>0</td>\n",
              "      <td>0</td>\n",
              "      <td>0</td>\n",
              "      <td>0</td>\n",
              "      <td>0</td>\n",
              "      <td>1</td>\n",
              "      <td>0</td>\n",
              "      <td>1.791759</td>\n",
              "      <td>1936</td>\n",
              "      <td>784</td>\n",
              "    </tr>\n",
              "    <tr>\n",
              "      <th>4</th>\n",
              "      <td>5.30</td>\n",
              "      <td>12</td>\n",
              "      <td>7</td>\n",
              "      <td>2</td>\n",
              "      <td>0</td>\n",
              "      <td>0</td>\n",
              "      <td>1</td>\n",
              "      <td>1</td>\n",
              "      <td>0</td>\n",
              "      <td>0</td>\n",
              "      <td>...</td>\n",
              "      <td>0</td>\n",
              "      <td>0</td>\n",
              "      <td>0</td>\n",
              "      <td>0</td>\n",
              "      <td>0</td>\n",
              "      <td>0</td>\n",
              "      <td>0</td>\n",
              "      <td>1.667707</td>\n",
              "      <td>49</td>\n",
              "      <td>4</td>\n",
              "    </tr>\n",
              "  </tbody>\n",
              "</table>\n",
              "<p>5 rows × 24 columns</p>\n",
              "</div>"
            ],
            "text/plain": [
              "   wage  educ  exper  tenure  nonwhite  female  married  numdep  smsa  \\\n",
              "0  3.10    11      2       0         0       1        0       2     1   \n",
              "1  3.24    12     22       2         0       1        1       3     1   \n",
              "2  3.00    11      2       0         0       0        0       2     0   \n",
              "3  6.00     8     44      28         0       0        1       0     1   \n",
              "4  5.30    12      7       2         0       0        1       1     0   \n",
              "\n",
              "   northcen  ...  trcommpu  trade  services  profserv  profocc  clerocc  \\\n",
              "0         0  ...         0      0         0         0        0        0   \n",
              "1         0  ...         0      0         1         0        0        0   \n",
              "2         0  ...         0      1         0         0        0        0   \n",
              "3         0  ...         0      0         0         0        0        1   \n",
              "4         0  ...         0      0         0         0        0        0   \n",
              "\n",
              "   servocc     lwage  expersq  tenursq  \n",
              "0        0  1.131402        4        0  \n",
              "1        1  1.175573      484        4  \n",
              "2        0  1.098612        4        0  \n",
              "3        0  1.791759     1936      784  \n",
              "4        0  1.667707       49        4  \n",
              "\n",
              "[5 rows x 24 columns]"
            ]
          },
          "execution_count": 3,
          "metadata": {},
          "output_type": "execute_result"
        }
      ],
      "source": [
        "import wooldridge as woo\n",
        "\n",
        "wage1 = woo.dataWoo('wage1')\n",
        "wage1.head()"
      ]
    },
    {
      "cell_type": "code",
      "execution_count": null,
      "id": "3ddfdebf",
      "metadata": {
        "id": "3ddfdebf",
        "outputId": "7af7ca5c-6cf6-48df-ab4a-67d014dda503"
      },
      "outputs": [
        {
          "data": {
            "text/html": [
              "<table class=\"simpletable\">\n",
              "<caption>OLS Regression Results</caption>\n",
              "<tr>\n",
              "  <th>Dep. Variable:</th>          <td>wage</td>       <th>  R-squared:         </th> <td>   0.225</td>\n",
              "</tr>\n",
              "<tr>\n",
              "  <th>Model:</th>                   <td>OLS</td>       <th>  Adj. R-squared:    </th> <td>   0.222</td>\n",
              "</tr>\n",
              "<tr>\n",
              "  <th>Method:</th>             <td>Least Squares</td>  <th>  F-statistic:       </th> <td>   75.99</td>\n",
              "</tr>\n",
              "<tr>\n",
              "  <th>Date:</th>             <td>Mon, 19 Jul 2021</td> <th>  Prob (F-statistic):</th> <td>1.07e-29</td>\n",
              "</tr>\n",
              "<tr>\n",
              "  <th>Time:</th>                 <td>09:29:58</td>     <th>  Log-Likelihood:    </th> <td> -1366.0</td>\n",
              "</tr>\n",
              "<tr>\n",
              "  <th>No. Observations:</th>      <td>   526</td>      <th>  AIC:               </th> <td>   2738.</td>\n",
              "</tr>\n",
              "<tr>\n",
              "  <th>Df Residuals:</th>          <td>   523</td>      <th>  BIC:               </th> <td>   2751.</td>\n",
              "</tr>\n",
              "<tr>\n",
              "  <th>Df Model:</th>              <td>     2</td>      <th>                     </th>     <td> </td>   \n",
              "</tr>\n",
              "<tr>\n",
              "  <th>Covariance Type:</th>      <td>nonrobust</td>    <th>                     </th>     <td> </td>   \n",
              "</tr>\n",
              "</table>\n",
              "<table class=\"simpletable\">\n",
              "<tr>\n",
              "      <td></td>         <th>coef</th>     <th>std err</th>      <th>t</th>      <th>P>|t|</th>  <th>[0.025</th>    <th>0.975]</th>  \n",
              "</tr>\n",
              "<tr>\n",
              "  <th>Intercept</th> <td>   -3.3905</td> <td>    0.767</td> <td>   -4.423</td> <td> 0.000</td> <td>   -4.896</td> <td>   -1.885</td>\n",
              "</tr>\n",
              "<tr>\n",
              "  <th>educ</th>      <td>    0.6443</td> <td>    0.054</td> <td>   11.974</td> <td> 0.000</td> <td>    0.539</td> <td>    0.750</td>\n",
              "</tr>\n",
              "<tr>\n",
              "  <th>exper</th>     <td>    0.0701</td> <td>    0.011</td> <td>    6.385</td> <td> 0.000</td> <td>    0.049</td> <td>    0.092</td>\n",
              "</tr>\n",
              "</table>\n",
              "<table class=\"simpletable\">\n",
              "<tr>\n",
              "  <th>Omnibus:</th>       <td>196.872</td> <th>  Durbin-Watson:     </th> <td>   1.820</td> \n",
              "</tr>\n",
              "<tr>\n",
              "  <th>Prob(Omnibus):</th> <td> 0.000</td>  <th>  Jarque-Bera (JB):  </th> <td> 727.160</td> \n",
              "</tr>\n",
              "<tr>\n",
              "  <th>Skew:</th>          <td> 1.715</td>  <th>  Prob(JB):          </th> <td>1.26e-158</td>\n",
              "</tr>\n",
              "<tr>\n",
              "  <th>Kurtosis:</th>      <td> 7.627</td>  <th>  Cond. No.          </th> <td>    130.</td> \n",
              "</tr>\n",
              "</table><br/><br/>Notes:<br/>[1] Standard Errors assume that the covariance matrix of the errors is correctly specified."
            ],
            "text/plain": [
              "<class 'statsmodels.iolib.summary.Summary'>\n",
              "\"\"\"\n",
              "                            OLS Regression Results                            \n",
              "==============================================================================\n",
              "Dep. Variable:                   wage   R-squared:                       0.225\n",
              "Model:                            OLS   Adj. R-squared:                  0.222\n",
              "Method:                 Least Squares   F-statistic:                     75.99\n",
              "Date:                Mon, 19 Jul 2021   Prob (F-statistic):           1.07e-29\n",
              "Time:                        09:29:58   Log-Likelihood:                -1366.0\n",
              "No. Observations:                 526   AIC:                             2738.\n",
              "Df Residuals:                     523   BIC:                             2751.\n",
              "Df Model:                           2                                         \n",
              "Covariance Type:            nonrobust                                         \n",
              "==============================================================================\n",
              "                 coef    std err          t      P>|t|      [0.025      0.975]\n",
              "------------------------------------------------------------------------------\n",
              "Intercept     -3.3905      0.767     -4.423      0.000      -4.896      -1.885\n",
              "educ           0.6443      0.054     11.974      0.000       0.539       0.750\n",
              "exper          0.0701      0.011      6.385      0.000       0.049       0.092\n",
              "==============================================================================\n",
              "Omnibus:                      196.872   Durbin-Watson:                   1.820\n",
              "Prob(Omnibus):                  0.000   Jarque-Bera (JB):              727.160\n",
              "Skew:                           1.715   Prob(JB):                    1.26e-158\n",
              "Kurtosis:                       7.627   Cond. No.                         130.\n",
              "==============================================================================\n",
              "\n",
              "Notes:\n",
              "[1] Standard Errors assume that the covariance matrix of the errors is correctly specified.\n",
              "\"\"\""
            ]
          },
          "execution_count": 4,
          "metadata": {},
          "output_type": "execute_result"
        }
      ],
      "source": [
        "reg2 = smf.ols(formula='wage ~ educ + exper', data=wage1)\n",
        "results2 = reg2.fit()\n",
        "results2.summary()"
      ]
    },
    {
      "cell_type": "markdown",
      "id": "72b8e211",
      "metadata": {
        "id": "72b8e211"
      },
      "source": [
        "Veja que temos os parâmetros estimados (*coef*), p-valor do teste T (*P>|t|*), R-quadrado (*R-squared*), teste F (*F-statistic*), entre outros indicadores de interesse."
      ]
    },
    {
      "cell_type": "markdown",
      "id": "cb26bf9a",
      "metadata": {
        "id": "cb26bf9a"
      },
      "source": [
        "## Arima\n",
        "\n",
        "Arima é uma sigla para *autoregressive integrated moving average*, em português, modelo auto-regressivo integrado de médias móveis. É um dos principais modelos utilizados para econometria de séries temporais, principalmente em termo de previsão.\n",
        "\n",
        "Um modelo ARIMA pode ser melhor entendido com a descrição dos seus componentes:\n",
        "\n",
        "    - Autoregressivo (AR):\n",
        "\\begin{equation}\n",
        "Y_{t}=\\alpha_{1} Y_{t-1}\n",
        "\\end{equation}\n",
        "\n",
        "    -Integrado (I): representa a diferenciação para tornar as séries estacionárias.\n",
        "\n",
        "    -Médias móveis (MA):  \n",
        "    \n",
        "\\begin{equation}\n",
        "Y_{t}=e_{t}-\\beta e_{t-1}\n",
        "\\end{equation}\n",
        "\n",
        "Assim, cada componente é representado por um parâmetro:\n",
        "\n",
        "    -p: Número de lags do componente AR\n",
        "    -d: Número de diferenciações\n",
        "    -q: O tamanho da janela de médias móveis\n",
        "    \n",
        "    \n",
        "Para estimar esse modelo no Python poderiamos também utilizar a biblioteca *statsmodels*. Entretanto, tem ganhado popularidade o algoritmo que cria um arima com parâmetros otimizados, o \"Auto Arima\", que pode ser aplicado com o pacote *pmdarima*.\n",
        "\n",
        "Demonstraremos utilizando o dataset \"earns\", também do pacote do wooldridge.  Aqui, temos dados econômicos sobre os salários e a produção nos Estados Unidos de 1947 até 1987."
      ]
    },
    {
      "cell_type": "code",
      "execution_count": null,
      "id": "a6a60fc9",
      "metadata": {
        "id": "a6a60fc9",
        "outputId": "2c663f55-cfad-42a8-c21d-13cebd1bf6f2"
      },
      "outputs": [
        {
          "data": {
            "text/html": [
              "<div>\n",
              "<style scoped>\n",
              "    .dataframe tbody tr th:only-of-type {\n",
              "        vertical-align: middle;\n",
              "    }\n",
              "\n",
              "    .dataframe tbody tr th {\n",
              "        vertical-align: top;\n",
              "    }\n",
              "\n",
              "    .dataframe thead th {\n",
              "        text-align: right;\n",
              "    }\n",
              "</style>\n",
              "<table border=\"1\" class=\"dataframe\">\n",
              "  <thead>\n",
              "    <tr style=\"text-align: right;\">\n",
              "      <th></th>\n",
              "      <th>year</th>\n",
              "      <th>wkearns</th>\n",
              "      <th>wkhours</th>\n",
              "      <th>outphr</th>\n",
              "      <th>hrwage</th>\n",
              "      <th>lhrwage</th>\n",
              "      <th>loutphr</th>\n",
              "      <th>t</th>\n",
              "      <th>ghrwage</th>\n",
              "      <th>goutphr</th>\n",
              "      <th>ghrwge_1</th>\n",
              "      <th>goutph_1</th>\n",
              "      <th>goutph_2</th>\n",
              "      <th>lwkhours</th>\n",
              "    </tr>\n",
              "  </thead>\n",
              "  <tbody>\n",
              "    <tr>\n",
              "      <th>0</th>\n",
              "      <td>1947</td>\n",
              "      <td>123.519997</td>\n",
              "      <td>40.299999</td>\n",
              "      <td>51.400002</td>\n",
              "      <td>3.065012</td>\n",
              "      <td>1.120052</td>\n",
              "      <td>3.939638</td>\n",
              "      <td>1</td>\n",
              "      <td>NaN</td>\n",
              "      <td>NaN</td>\n",
              "      <td>NaN</td>\n",
              "      <td>NaN</td>\n",
              "      <td>NaN</td>\n",
              "      <td>3.696352</td>\n",
              "    </tr>\n",
              "    <tr>\n",
              "      <th>1</th>\n",
              "      <td>1948</td>\n",
              "      <td>123.430000</td>\n",
              "      <td>40.000000</td>\n",
              "      <td>53.299999</td>\n",
              "      <td>3.085750</td>\n",
              "      <td>1.126795</td>\n",
              "      <td>3.975936</td>\n",
              "      <td>2</td>\n",
              "      <td>0.006743</td>\n",
              "      <td>0.036298</td>\n",
              "      <td>NaN</td>\n",
              "      <td>NaN</td>\n",
              "      <td>NaN</td>\n",
              "      <td>3.688879</td>\n",
              "    </tr>\n",
              "    <tr>\n",
              "      <th>2</th>\n",
              "      <td>1949</td>\n",
              "      <td>127.839996</td>\n",
              "      <td>39.400002</td>\n",
              "      <td>54.200001</td>\n",
              "      <td>3.244670</td>\n",
              "      <td>1.177014</td>\n",
              "      <td>3.992681</td>\n",
              "      <td>3</td>\n",
              "      <td>0.050219</td>\n",
              "      <td>0.016745</td>\n",
              "      <td>0.006743</td>\n",
              "      <td>0.036298</td>\n",
              "      <td>NaN</td>\n",
              "      <td>3.673766</td>\n",
              "    </tr>\n",
              "    <tr>\n",
              "      <th>3</th>\n",
              "      <td>1950</td>\n",
              "      <td>133.830002</td>\n",
              "      <td>39.799999</td>\n",
              "      <td>57.700001</td>\n",
              "      <td>3.362563</td>\n",
              "      <td>1.212703</td>\n",
              "      <td>4.055257</td>\n",
              "      <td>4</td>\n",
              "      <td>0.035690</td>\n",
              "      <td>0.062576</td>\n",
              "      <td>0.050219</td>\n",
              "      <td>0.016745</td>\n",
              "      <td>0.036298</td>\n",
              "      <td>3.683867</td>\n",
              "    </tr>\n",
              "    <tr>\n",
              "      <th>4</th>\n",
              "      <td>1951</td>\n",
              "      <td>134.869995</td>\n",
              "      <td>39.900002</td>\n",
              "      <td>59.400002</td>\n",
              "      <td>3.380200</td>\n",
              "      <td>1.217935</td>\n",
              "      <td>4.084294</td>\n",
              "      <td>5</td>\n",
              "      <td>0.005231</td>\n",
              "      <td>0.029037</td>\n",
              "      <td>0.035690</td>\n",
              "      <td>0.062576</td>\n",
              "      <td>0.016745</td>\n",
              "      <td>3.686376</td>\n",
              "    </tr>\n",
              "  </tbody>\n",
              "</table>\n",
              "</div>"
            ],
            "text/plain": [
              "   year     wkearns    wkhours     outphr    hrwage   lhrwage   loutphr  t  \\\n",
              "0  1947  123.519997  40.299999  51.400002  3.065012  1.120052  3.939638  1   \n",
              "1  1948  123.430000  40.000000  53.299999  3.085750  1.126795  3.975936  2   \n",
              "2  1949  127.839996  39.400002  54.200001  3.244670  1.177014  3.992681  3   \n",
              "3  1950  133.830002  39.799999  57.700001  3.362563  1.212703  4.055257  4   \n",
              "4  1951  134.869995  39.900002  59.400002  3.380200  1.217935  4.084294  5   \n",
              "\n",
              "    ghrwage   goutphr  ghrwge_1  goutph_1  goutph_2  lwkhours  \n",
              "0       NaN       NaN       NaN       NaN       NaN  3.696352  \n",
              "1  0.006743  0.036298       NaN       NaN       NaN  3.688879  \n",
              "2  0.050219  0.016745  0.006743  0.036298       NaN  3.673766  \n",
              "3  0.035690  0.062576  0.050219  0.016745  0.036298  3.683867  \n",
              "4  0.005231  0.029037  0.035690  0.062576  0.016745  3.686376  "
            ]
          },
          "execution_count": 4,
          "metadata": {},
          "output_type": "execute_result"
        }
      ],
      "source": [
        "earns = woo.dataWoo('earns')\n",
        "earns.head()"
      ]
    },
    {
      "cell_type": "markdown",
      "id": "c6160969",
      "metadata": {
        "id": "c6160969"
      },
      "source": [
        "Para estimarmos, basta utilizarmos a função **auto_arima**. Já para retornarmos a previsão, é preciso usar o **predict**, que retorna também o intervalo de confiança das previsões."
      ]
    },
    {
      "cell_type": "code",
      "execution_count": null,
      "id": "0197632d",
      "metadata": {
        "id": "0197632d",
        "outputId": "aea9a2fd-3fa2-44b8-958e-a0b4ded22be5"
      },
      "outputs": [
        {
          "data": {
            "text/plain": [
              "(array([167.24401674, 166.15892464, 165.43047913, 164.40117178,\n",
              "        163.14285052, 161.94867095, 160.86705456, 159.78880026,\n",
              "        158.66454505, 157.52659353, 156.40414748, 155.29155243]),\n",
              " array([[160.56281969, 173.92521378],\n",
              "        [154.12011371, 178.19773556],\n",
              "        [149.98909282, 180.87186544],\n",
              "        [146.14652694, 182.65581662],\n",
              "        [141.59678311, 184.68891793],\n",
              "        [136.56375579, 187.33358612],\n",
              "        [131.48968623, 190.24442289],\n",
              "        [126.39651922, 193.1810813 ],\n",
              "        [121.12778393, 196.20130618],\n",
              "        [115.64353352, 199.40965354],\n",
              "        [109.99920354, 202.80909142],\n",
              "        [104.22932312, 206.35378174]]))"
            ]
          },
          "execution_count": 5,
          "metadata": {},
          "output_type": "execute_result"
        }
      ],
      "source": [
        "y = earns[\"wkearns\"]\n",
        "\n",
        "model = pm.auto_arima(y)\n",
        "\n",
        "forecasts = model.predict(12,return_conf_int=True)\n",
        "\n",
        "forecasts"
      ]
    },
    {
      "cell_type": "markdown",
      "id": "ebee5842",
      "metadata": {
        "id": "ebee5842"
      },
      "source": [
        "Da mesma forma que em relação ao modelo de regressão linear, a função **summary** retorna os parâmetros e outros indicadores do modelo estimado."
      ]
    },
    {
      "cell_type": "code",
      "execution_count": null,
      "id": "49b5bc27",
      "metadata": {
        "id": "49b5bc27",
        "outputId": "0a02fb60-b048-4da0-a84d-63551bf9c741"
      },
      "outputs": [
        {
          "data": {
            "text/html": [
              "<table class=\"simpletable\">\n",
              "<caption>SARIMAX Results</caption>\n",
              "<tr>\n",
              "  <th>Dep. Variable:</th>           <td>y</td>        <th>  No. Observations:  </th>    <td>41</td>   \n",
              "</tr>\n",
              "<tr>\n",
              "  <th>Model:</th>           <td>SARIMAX(2, 2, 1)</td> <th>  Log Likelihood     </th> <td>-103.862</td>\n",
              "</tr>\n",
              "<tr>\n",
              "  <th>Date:</th>            <td>Sun, 18 Jul 2021</td> <th>  AIC                </th>  <td>215.723</td>\n",
              "</tr>\n",
              "<tr>\n",
              "  <th>Time:</th>                <td>20:57:10</td>     <th>  BIC                </th>  <td>222.378</td>\n",
              "</tr>\n",
              "<tr>\n",
              "  <th>Sample:</th>                  <td>0</td>        <th>  HQIC               </th>  <td>218.111</td>\n",
              "</tr>\n",
              "<tr>\n",
              "  <th></th>                       <td> - 41</td>      <th>                     </th>     <td> </td>   \n",
              "</tr>\n",
              "<tr>\n",
              "  <th>Covariance Type:</th>        <td>opg</td>       <th>                     </th>     <td> </td>   \n",
              "</tr>\n",
              "</table>\n",
              "<table class=\"simpletable\">\n",
              "<tr>\n",
              "     <td></td>       <th>coef</th>     <th>std err</th>      <th>z</th>      <th>P>|z|</th>  <th>[0.025</th>    <th>0.975]</th>  \n",
              "</tr>\n",
              "<tr>\n",
              "  <th>ar.L1</th>  <td>    0.2673</td> <td>    0.173</td> <td>    1.543</td> <td> 0.123</td> <td>   -0.072</td> <td>    0.607</td>\n",
              "</tr>\n",
              "<tr>\n",
              "  <th>ar.L2</th>  <td>   -0.4167</td> <td>    0.166</td> <td>   -2.510</td> <td> 0.012</td> <td>   -0.742</td> <td>   -0.091</td>\n",
              "</tr>\n",
              "<tr>\n",
              "  <th>ma.L1</th>  <td>   -0.7683</td> <td>    0.127</td> <td>   -6.026</td> <td> 0.000</td> <td>   -1.018</td> <td>   -0.518</td>\n",
              "</tr>\n",
              "<tr>\n",
              "  <th>sigma2</th> <td>   11.6202</td> <td>    3.208</td> <td>    3.622</td> <td> 0.000</td> <td>    5.332</td> <td>   17.908</td>\n",
              "</tr>\n",
              "</table>\n",
              "<table class=\"simpletable\">\n",
              "<tr>\n",
              "  <th>Ljung-Box (L1) (Q):</th>     <td>0.06</td> <th>  Jarque-Bera (JB):  </th> <td>0.42</td> \n",
              "</tr>\n",
              "<tr>\n",
              "  <th>Prob(Q):</th>                <td>0.81</td> <th>  Prob(JB):          </th> <td>0.81</td> \n",
              "</tr>\n",
              "<tr>\n",
              "  <th>Heteroskedasticity (H):</th> <td>1.21</td> <th>  Skew:              </th> <td>-0.08</td>\n",
              "</tr>\n",
              "<tr>\n",
              "  <th>Prob(H) (two-sided):</th>    <td>0.73</td> <th>  Kurtosis:          </th> <td>2.52</td> \n",
              "</tr>\n",
              "</table><br/><br/>Warnings:<br/>[1] Covariance matrix calculated using the outer product of gradients (complex-step)."
            ],
            "text/plain": [
              "<class 'statsmodels.iolib.summary.Summary'>\n",
              "\"\"\"\n",
              "                               SARIMAX Results                                \n",
              "==============================================================================\n",
              "Dep. Variable:                      y   No. Observations:                   41\n",
              "Model:               SARIMAX(2, 2, 1)   Log Likelihood                -103.862\n",
              "Date:                Sun, 18 Jul 2021   AIC                            215.723\n",
              "Time:                        20:57:10   BIC                            222.378\n",
              "Sample:                             0   HQIC                           218.111\n",
              "                                 - 41                                         \n",
              "Covariance Type:                  opg                                         \n",
              "==============================================================================\n",
              "                 coef    std err          z      P>|z|      [0.025      0.975]\n",
              "------------------------------------------------------------------------------\n",
              "ar.L1          0.2673      0.173      1.543      0.123      -0.072       0.607\n",
              "ar.L2         -0.4167      0.166     -2.510      0.012      -0.742      -0.091\n",
              "ma.L1         -0.7683      0.127     -6.026      0.000      -1.018      -0.518\n",
              "sigma2        11.6202      3.208      3.622      0.000       5.332      17.908\n",
              "===================================================================================\n",
              "Ljung-Box (L1) (Q):                   0.06   Jarque-Bera (JB):                 0.42\n",
              "Prob(Q):                              0.81   Prob(JB):                         0.81\n",
              "Heteroskedasticity (H):               1.21   Skew:                            -0.08\n",
              "Prob(H) (two-sided):                  0.73   Kurtosis:                         2.52\n",
              "===================================================================================\n",
              "\n",
              "Warnings:\n",
              "[1] Covariance matrix calculated using the outer product of gradients (complex-step).\n",
              "\"\"\""
            ]
          },
          "execution_count": 6,
          "metadata": {},
          "output_type": "execute_result"
        }
      ],
      "source": [
        "model.summary()"
      ]
    },
    {
      "cell_type": "code",
      "execution_count": null,
      "id": "c62cfc3b",
      "metadata": {
        "id": "c62cfc3b",
        "outputId": "87768e50-e20f-4037-d68e-1fee2c2f7aaf"
      },
      "outputs": [
        {
          "data": {
            "text/plain": [
              "<matplotlib.collections.PolyCollection at 0x17bbca76cd0>"
            ]
          },
          "execution_count": 7,
          "metadata": {},
          "output_type": "execute_result"
        },
        {
          "data": {
            "image/png": "[encoded data removed]",
            "text/plain": [
              "<Figure size 1200x800 with 1 Axes>"
            ]
          },
          "metadata": {
            "needs_background": "light"
          },
          "output_type": "display_data"
        }
      ],
      "source": [
        "obs = y.shape[0]\n",
        "\n",
        "x = np.arange(y.shape[0] + 12)\n",
        "plt.plot(x[:obs], y, c='blue')\n",
        "plt.plot(x[obs:], forecasts[0], c='green')\n",
        "\n",
        "conf_int = np.asarray(forecasts[1])\n",
        "\n",
        "plt.fill_between(x[obs:], conf_int[:, 0], conf_int[:, 1],\n",
        "                     alpha=0.5, color='grey',\n",
        "                     label=\"Confidence Intervals\")"
      ]
    },
    {
      "cell_type": "markdown",
      "id": "a47db05f",
      "metadata": {
        "id": "a47db05f"
      },
      "source": [
        "## Dados em Painel\n",
        "\n",
        "Também podemos estimar modelos de dados em painel no Python. Para isso podemos usar a biblioteca **linearmodels**. Utilizaremos um dataset do pacote com dados de característica de trabalhadores, incluindo os salários. O identificador de grupo é \"nr\" e o de tempo identificada é \"year\".  "
      ]
    },
    {
      "cell_type": "code",
      "execution_count": null,
      "id": "4e0d5789",
      "metadata": {
        "id": "4e0d5789",
        "outputId": "fdcc4810-dda3-46d9-d3d7-fa32404ec905"
      },
      "outputs": [
        {
          "data": {
            "text/html": [
              "<div>\n",
              "<style scoped>\n",
              "    .dataframe tbody tr th:only-of-type {\n",
              "        vertical-align: middle;\n",
              "    }\n",
              "\n",
              "    .dataframe tbody tr th {\n",
              "        vertical-align: top;\n",
              "    }\n",
              "\n",
              "    .dataframe thead th {\n",
              "        text-align: right;\n",
              "    }\n",
              "</style>\n",
              "<table border=\"1\" class=\"dataframe\">\n",
              "  <thead>\n",
              "    <tr style=\"text-align: right;\">\n",
              "      <th></th>\n",
              "      <th></th>\n",
              "      <th>black</th>\n",
              "      <th>exper</th>\n",
              "      <th>hisp</th>\n",
              "      <th>hours</th>\n",
              "      <th>married</th>\n",
              "      <th>educ</th>\n",
              "      <th>union</th>\n",
              "      <th>lwage</th>\n",
              "      <th>expersq</th>\n",
              "      <th>occupation</th>\n",
              "      <th>year</th>\n",
              "    </tr>\n",
              "    <tr>\n",
              "      <th>nr</th>\n",
              "      <th>year</th>\n",
              "      <th></th>\n",
              "      <th></th>\n",
              "      <th></th>\n",
              "      <th></th>\n",
              "      <th></th>\n",
              "      <th></th>\n",
              "      <th></th>\n",
              "      <th></th>\n",
              "      <th></th>\n",
              "      <th></th>\n",
              "      <th></th>\n",
              "    </tr>\n",
              "  </thead>\n",
              "  <tbody>\n",
              "    <tr>\n",
              "      <th rowspan=\"5\" valign=\"top\">13</th>\n",
              "      <th>1980</th>\n",
              "      <td>0</td>\n",
              "      <td>1</td>\n",
              "      <td>0</td>\n",
              "      <td>2672</td>\n",
              "      <td>0</td>\n",
              "      <td>14</td>\n",
              "      <td>0</td>\n",
              "      <td>1.197540</td>\n",
              "      <td>1</td>\n",
              "      <td>9</td>\n",
              "      <td>1980</td>\n",
              "    </tr>\n",
              "    <tr>\n",
              "      <th>1981</th>\n",
              "      <td>0</td>\n",
              "      <td>2</td>\n",
              "      <td>0</td>\n",
              "      <td>2320</td>\n",
              "      <td>0</td>\n",
              "      <td>14</td>\n",
              "      <td>1</td>\n",
              "      <td>1.853060</td>\n",
              "      <td>4</td>\n",
              "      <td>9</td>\n",
              "      <td>1981</td>\n",
              "    </tr>\n",
              "    <tr>\n",
              "      <th>1982</th>\n",
              "      <td>0</td>\n",
              "      <td>3</td>\n",
              "      <td>0</td>\n",
              "      <td>2940</td>\n",
              "      <td>0</td>\n",
              "      <td>14</td>\n",
              "      <td>0</td>\n",
              "      <td>1.344462</td>\n",
              "      <td>9</td>\n",
              "      <td>9</td>\n",
              "      <td>1982</td>\n",
              "    </tr>\n",
              "    <tr>\n",
              "      <th>1983</th>\n",
              "      <td>0</td>\n",
              "      <td>4</td>\n",
              "      <td>0</td>\n",
              "      <td>2960</td>\n",
              "      <td>0</td>\n",
              "      <td>14</td>\n",
              "      <td>0</td>\n",
              "      <td>1.433213</td>\n",
              "      <td>16</td>\n",
              "      <td>9</td>\n",
              "      <td>1983</td>\n",
              "    </tr>\n",
              "    <tr>\n",
              "      <th>1984</th>\n",
              "      <td>0</td>\n",
              "      <td>5</td>\n",
              "      <td>0</td>\n",
              "      <td>3071</td>\n",
              "      <td>0</td>\n",
              "      <td>14</td>\n",
              "      <td>0</td>\n",
              "      <td>1.568125</td>\n",
              "      <td>25</td>\n",
              "      <td>5</td>\n",
              "      <td>1984</td>\n",
              "    </tr>\n",
              "  </tbody>\n",
              "</table>\n",
              "</div>"
            ],
            "text/plain": [
              "         black  exper  hisp  hours  married  educ  union     lwage  expersq  \\\n",
              "nr year                                                                       \n",
              "13 1980      0      1     0   2672        0    14      0  1.197540        1   \n",
              "   1981      0      2     0   2320        0    14      1  1.853060        4   \n",
              "   1982      0      3     0   2940        0    14      0  1.344462        9   \n",
              "   1983      0      4     0   2960        0    14      0  1.433213       16   \n",
              "   1984      0      5     0   3071        0    14      0  1.568125       25   \n",
              "\n",
              "         occupation  year  \n",
              "nr year                    \n",
              "13 1980           9  1980  \n",
              "   1981           9  1981  \n",
              "   1982           9  1982  \n",
              "   1983           9  1983  \n",
              "   1984           5  1984  "
            ]
          },
          "execution_count": 8,
          "metadata": {},
          "output_type": "execute_result"
        }
      ],
      "source": [
        "from linearmodels.datasets import wage_panel\n",
        "import pandas as pd\n",
        "\n",
        "data = wage_panel.load()\n",
        "year = pd.Categorical(data.year)\n",
        "data = data.set_index([\"nr\", \"year\"])\n",
        "data[\"year\"] = year\n",
        "data.head()"
      ]
    },
    {
      "cell_type": "markdown",
      "id": "1a3325ec",
      "metadata": {
        "id": "1a3325ec"
      },
      "source": [
        "Podemos estimar um modelo Pooled OLS com a função \"Pooled OLS\". Esta biblioteca utiliza um jeito diferente de estimação, sem o uso de fórmula. Assim, precisamos indicar as variáveis dependentes e independentes."
      ]
    },
    {
      "cell_type": "code",
      "execution_count": null,
      "id": "d54eab8c",
      "metadata": {
        "id": "d54eab8c",
        "outputId": "a6a46b22-cc27-45bf-826c-4afa76d0e58f"
      },
      "outputs": [
        {
          "name": "stdout",
          "output_type": "stream",
          "text": [
            "                          PooledOLS Estimation Summary                          \n",
            "================================================================================\n",
            "Dep. Variable:                  lwage   R-squared:                        0.1893\n",
            "Estimator:                  PooledOLS   R-squared (Between):              0.2066\n",
            "No. Observations:                4360   R-squared (Within):               0.1692\n",
            "Date:                Sun, Jul 18 2021   R-squared (Overall):              0.1893\n",
            "Time:                        20:57:11   Log-likelihood                   -2982.0\n",
            "Cov. Estimator:            Unadjusted                                           \n",
            "                                        F-statistic:                      72.459\n",
            "Entities:                         545   P-value                           0.0000\n",
            "Avg Obs:                       8.0000   Distribution:                 F(14,4345)\n",
            "Min Obs:                       8.0000                                           \n",
            "Max Obs:                       8.0000   F-statistic (robust):             72.459\n",
            "                                        P-value                           0.0000\n",
            "Time periods:                       8   Distribution:                 F(14,4345)\n",
            "Avg Obs:                       545.00                                           \n",
            "Min Obs:                       545.00                                           \n",
            "Max Obs:                       545.00                                           \n",
            "                                                                                \n",
            "                             Parameter Estimates                              \n",
            "==============================================================================\n",
            "            Parameter  Std. Err.     T-stat    P-value    Lower CI    Upper CI\n",
            "------------------------------------------------------------------------------\n",
            "const          0.0921     0.0783     1.1761     0.2396     -0.0614      0.2455\n",
            "black         -0.1392     0.0236    -5.9049     0.0000     -0.1855     -0.0930\n",
            "hisp           0.0160     0.0208     0.7703     0.4412     -0.0248      0.0568\n",
            "exper          0.0672     0.0137     4.9095     0.0000      0.0404      0.0941\n",
            "expersq       -0.0024     0.0008    -2.9413     0.0033     -0.0040     -0.0008\n",
            "married        0.1083     0.0157     6.8997     0.0000      0.0775      0.1390\n",
            "educ           0.0913     0.0052     17.442     0.0000      0.0811      0.1016\n",
            "union          0.1825     0.0172     10.635     0.0000      0.1488      0.2161\n",
            "year.1981      0.0583     0.0304     1.9214     0.0548     -0.0012      0.1178\n",
            "year.1982      0.0628     0.0332     1.8900     0.0588     -0.0023      0.1279\n",
            "year.1983      0.0620     0.0367     1.6915     0.0908     -0.0099      0.1339\n",
            "year.1984      0.0905     0.0401     2.2566     0.0241      0.0119      0.1691\n",
            "year.1985      0.1092     0.0434     2.5200     0.0118      0.0243      0.1942\n",
            "year.1986      0.1420     0.0464     3.0580     0.0022      0.0509      0.2330\n",
            "year.1987      0.1738     0.0494     3.5165     0.0004      0.0769      0.2707\n",
            "==============================================================================\n"
          ]
        }
      ],
      "source": [
        "from linearmodels.panel import PooledOLS, RandomEffects\n",
        "import statsmodels.api as sm\n",
        "\n",
        "exog_vars = [\"black\", \"hisp\", \"exper\", \"expersq\", \"married\", \"educ\", \"union\", \"year\"]\n",
        "exog = sm.add_constant(data[exog_vars])\n",
        "mod = PooledOLS(data.lwage, exog)\n",
        "pooled_res = mod.fit()\n",
        "print(pooled_res)"
      ]
    },
    {
      "cell_type": "markdown",
      "id": "815348e7",
      "metadata": {
        "id": "815348e7"
      },
      "source": [
        "Da mesma forma, podemos estimar um modelo de efeitos aleatórios."
      ]
    },
    {
      "cell_type": "code",
      "execution_count": null,
      "id": "5a364d5b",
      "metadata": {
        "id": "5a364d5b",
        "outputId": "0e48737d-fc84-4805-85b7-77d92e4fcc0d"
      },
      "outputs": [
        {
          "name": "stdout",
          "output_type": "stream",
          "text": [
            "                        RandomEffects Estimation Summary                        \n",
            "================================================================================\n",
            "Dep. Variable:                  lwage   R-squared:                        0.1806\n",
            "Estimator:              RandomEffects   R-squared (Between):              0.1853\n",
            "No. Observations:                4360   R-squared (Within):               0.1799\n",
            "Date:                Sun, Jul 18 2021   R-squared (Overall):              0.1828\n",
            "Time:                        20:57:11   Log-likelihood                   -1622.5\n",
            "Cov. Estimator:            Unadjusted                                           \n",
            "                                        F-statistic:                      68.409\n",
            "Entities:                         545   P-value                           0.0000\n",
            "Avg Obs:                       8.0000   Distribution:                 F(14,4345)\n",
            "Min Obs:                       8.0000                                           \n",
            "Max Obs:                       8.0000   F-statistic (robust):             68.409\n",
            "                                        P-value                           0.0000\n",
            "Time periods:                       8   Distribution:                 F(14,4345)\n",
            "Avg Obs:                       545.00                                           \n",
            "Min Obs:                       545.00                                           \n",
            "Max Obs:                       545.00                                           \n",
            "                                                                                \n",
            "                             Parameter Estimates                              \n",
            "==============================================================================\n",
            "            Parameter  Std. Err.     T-stat    P-value    Lower CI    Upper CI\n",
            "------------------------------------------------------------------------------\n",
            "const          0.0234     0.1514     0.1546     0.8771     -0.2735      0.3203\n",
            "black         -0.1394     0.0480    -2.9054     0.0037     -0.2334     -0.0453\n",
            "hisp           0.0217     0.0428     0.5078     0.6116     -0.0622      0.1057\n",
            "exper          0.1058     0.0154     6.8706     0.0000      0.0756      0.1361\n",
            "expersq       -0.0047     0.0007    -6.8623     0.0000     -0.0061     -0.0034\n",
            "married        0.0638     0.0168     3.8035     0.0001      0.0309      0.0967\n",
            "educ           0.0919     0.0107     8.5744     0.0000      0.0709      0.1129\n",
            "union          0.1059     0.0179     5.9289     0.0000      0.0709      0.1409\n",
            "year.1981      0.0404     0.0247     1.6362     0.1019     -0.0080      0.0889\n",
            "year.1982      0.0309     0.0324     0.9519     0.3412     -0.0327      0.0944\n",
            "year.1983      0.0202     0.0417     0.4840     0.6284     -0.0616      0.1020\n",
            "year.1984      0.0430     0.0515     0.8350     0.4037     -0.0580      0.1440\n",
            "year.1985      0.0577     0.0615     0.9383     0.3482     -0.0629      0.1782\n",
            "year.1986      0.0918     0.0716     1.2834     0.1994     -0.0485      0.2321\n",
            "year.1987      0.1348     0.0817     1.6504     0.0989     -0.0253      0.2950\n",
            "==============================================================================\n"
          ]
        }
      ],
      "source": [
        "mod = RandomEffects(data.lwage, exog)\n",
        "re_res = mod.fit()\n",
        "print(re_res)"
      ]
    },
    {
      "cell_type": "markdown",
      "id": "5379712d",
      "metadata": {
        "id": "5379712d"
      },
      "source": [
        "## Scikit Learn"
      ]
    },
    {
      "cell_type": "markdown",
      "id": "f447a6e9",
      "metadata": {
        "id": "f447a6e9"
      },
      "source": [
        "O Machine learning é um campo ainda em exploração para os Economistas. Entretanto, vem ganhando muita força, principalmente na área de pesquisa empírica e previsão. Existem várias blibliotecas no Python que fornecem ferramentas para a estimação destes modelos: Scikit-Learn, Pytorch, TensorFlow e Keras, entre as mais conhecidas. Iremos fazer uma breve introdução à primeira, mostrando como construir algoritmos de regressão e classificação de forma intuitiva.\n",
        "\n",
        "São diversas as possiblidades de modelos pelo Scikit-Learn. Por exemplo, podemos fazer um modelo de regressão linear. Para isso, vamos simular alguns dados:"
      ]
    },
    {
      "cell_type": "code",
      "execution_count": null,
      "id": "ef9721d7",
      "metadata": {
        "id": "ef9721d7",
        "outputId": "cfe05c1c-4a76-4762-fedb-61dfe56cf559"
      },
      "outputs": [
        {
          "data": {
            "image/png": "[encoded data removed]",
            "text/plain": [
              "<Figure size 1200x800 with 1 Axes>"
            ]
          },
          "metadata": {
            "needs_background": "light"
          },
          "output_type": "display_data"
        }
      ],
      "source": [
        "rng = np.random.RandomState(46)\n",
        "sigma = 5\n",
        "x = 30 * rng.rand(200)\n",
        "y = 2 * x  + rng.randn(200)*sigma\n",
        "plt.scatter(x, y);"
      ]
    },
    {
      "cell_type": "markdown",
      "id": "13eba34a",
      "metadata": {
        "id": "13eba34a"
      },
      "source": [
        "O padrão do Sklearn é importar o modelo que você quer utilizar - no caso \"LinearRegression\" - e colocar os parâmetros que desejar na função. Diferentemente do **statsmodels** nós não utilizamos a fórmula dentro da função. Ao invés disso, separamos as variáveis em X e Y."
      ]
    },
    {
      "cell_type": "code",
      "execution_count": null,
      "id": "0727a1d9",
      "metadata": {
        "id": "0727a1d9",
        "outputId": "b5442465-e231-4e2b-e4cc-2bc63301b84a"
      },
      "outputs": [
        {
          "data": {
            "text/plain": [
              "LinearRegression()"
            ]
          },
          "execution_count": 12,
          "metadata": {},
          "output_type": "execute_result"
        }
      ],
      "source": [
        "from sklearn.linear_model import LinearRegression\n",
        "\n",
        "ols = LinearRegression(fit_intercept=True)\n",
        "\n",
        "X = x[:, np.newaxis]\n",
        "\n",
        "ols.fit(X, y)"
      ]
    },
    {
      "cell_type": "markdown",
      "id": "c1d66aad",
      "metadata": {
        "id": "c1d66aad"
      },
      "source": [
        "Podemos obter os coeficientes estimados, assim como os valores preditos."
      ]
    },
    {
      "cell_type": "code",
      "execution_count": null,
      "id": "520f7859",
      "metadata": {
        "id": "520f7859",
        "outputId": "b5780d2c-5cbe-4537-a33e-4b7cca05640c"
      },
      "outputs": [
        {
          "name": "stdout",
          "output_type": "stream",
          "text": [
            "[1.98411059]\n"
          ]
        },
        {
          "data": {
            "image/png": "[encoded data removed]",
            "text/plain": [
              "<Figure size 1200x800 with 1 Axes>"
            ]
          },
          "metadata": {
            "needs_background": "light"
          },
          "output_type": "display_data"
        }
      ],
      "source": [
        "print(ols.coef_)\n",
        "\n",
        "yfit = ols.predict(X)\n",
        "\n",
        "plt.scatter(x, y)\n",
        "plt.plot(X, yfit, \"red\");"
      ]
    },
    {
      "cell_type": "markdown",
      "id": "2f7731fa",
      "metadata": {
        "id": "2f7731fa"
      },
      "source": [
        "A outra classe de modelos possível são os modelos de classificação. Que tentam prever de qual grupo a observação faz parte, baseado nos dados. Um exemplo pode ser demonstrado pelo dataset \"iris\", que traz características de uma flor de acordo com a espécie. Assim iremos tentar prever a espécie baseado nestas características."
      ]
    },
    {
      "cell_type": "code",
      "execution_count": null,
      "id": "db823baf",
      "metadata": {
        "id": "db823baf",
        "outputId": "8a9aaac2-c24e-484b-c552-876fa86d4235"
      },
      "outputs": [
        {
          "data": {
            "text/html": [
              "<div>\n",
              "<style scoped>\n",
              "    .dataframe tbody tr th:only-of-type {\n",
              "        vertical-align: middle;\n",
              "    }\n",
              "\n",
              "    .dataframe tbody tr th {\n",
              "        vertical-align: top;\n",
              "    }\n",
              "\n",
              "    .dataframe thead th {\n",
              "        text-align: right;\n",
              "    }\n",
              "</style>\n",
              "<table border=\"1\" class=\"dataframe\">\n",
              "  <thead>\n",
              "    <tr style=\"text-align: right;\">\n",
              "      <th></th>\n",
              "      <th>sepal_length</th>\n",
              "      <th>sepal_width</th>\n",
              "      <th>petal_length</th>\n",
              "      <th>petal_width</th>\n",
              "      <th>species</th>\n",
              "    </tr>\n",
              "  </thead>\n",
              "  <tbody>\n",
              "    <tr>\n",
              "      <th>0</th>\n",
              "      <td>5.1</td>\n",
              "      <td>3.5</td>\n",
              "      <td>1.4</td>\n",
              "      <td>0.2</td>\n",
              "      <td>setosa</td>\n",
              "    </tr>\n",
              "    <tr>\n",
              "      <th>1</th>\n",
              "      <td>4.9</td>\n",
              "      <td>3.0</td>\n",
              "      <td>1.4</td>\n",
              "      <td>0.2</td>\n",
              "      <td>setosa</td>\n",
              "    </tr>\n",
              "    <tr>\n",
              "      <th>2</th>\n",
              "      <td>4.7</td>\n",
              "      <td>3.2</td>\n",
              "      <td>1.3</td>\n",
              "      <td>0.2</td>\n",
              "      <td>setosa</td>\n",
              "    </tr>\n",
              "    <tr>\n",
              "      <th>3</th>\n",
              "      <td>4.6</td>\n",
              "      <td>3.1</td>\n",
              "      <td>1.5</td>\n",
              "      <td>0.2</td>\n",
              "      <td>setosa</td>\n",
              "    </tr>\n",
              "    <tr>\n",
              "      <th>4</th>\n",
              "      <td>5.0</td>\n",
              "      <td>3.6</td>\n",
              "      <td>1.4</td>\n",
              "      <td>0.2</td>\n",
              "      <td>setosa</td>\n",
              "    </tr>\n",
              "  </tbody>\n",
              "</table>\n",
              "</div>"
            ],
            "text/plain": [
              "   sepal_length  sepal_width  petal_length  petal_width species\n",
              "0           5.1          3.5           1.4          0.2  setosa\n",
              "1           4.9          3.0           1.4          0.2  setosa\n",
              "2           4.7          3.2           1.3          0.2  setosa\n",
              "3           4.6          3.1           1.5          0.2  setosa\n",
              "4           5.0          3.6           1.4          0.2  setosa"
            ]
          },
          "execution_count": 14,
          "metadata": {},
          "output_type": "execute_result"
        }
      ],
      "source": [
        "iris = sns.load_dataset('iris')\n",
        "iris.head()"
      ]
    },
    {
      "cell_type": "markdown",
      "id": "59b78a2a",
      "metadata": {
        "id": "59b78a2a"
      },
      "source": [
        "Como foi dito, é necessário separar entre X e Y. Iremos utilizar apenas as duas primeiras colunas para tentar prever."
      ]
    },
    {
      "cell_type": "code",
      "execution_count": null,
      "id": "cf8cef5e",
      "metadata": {
        "id": "cf8cef5e"
      },
      "outputs": [],
      "source": [
        "X_iris = iris[[\"sepal_length\",\"sepal_width\"]]\n",
        "\n",
        "y_iris = iris['species']"
      ]
    },
    {
      "cell_type": "markdown",
      "id": "56eec4bd",
      "metadata": {
        "id": "56eec4bd"
      },
      "source": [
        "Além de separarmos em X e Y, iremos separar os dados entre treino e teste. Iremos modelar os dados no treino e testar a performance no teste."
      ]
    },
    {
      "cell_type": "code",
      "execution_count": null,
      "id": "22233633",
      "metadata": {
        "id": "22233633"
      },
      "outputs": [],
      "source": [
        "from sklearn.model_selection import train_test_split\n",
        "\n",
        "Xtrain, Xtest, ytrain, ytest = train_test_split(X_iris, y_iris,\n",
        "                                                random_state=1)"
      ]
    },
    {
      "cell_type": "markdown",
      "id": "4cd5a0d1",
      "metadata": {
        "id": "4cd5a0d1"
      },
      "source": [
        "Iremos utilizar o algorítmo de Random Forest, que é uma extensão dos modelos de árvore de decisão. Assim, basta utilizarmosa função **fit**."
      ]
    },
    {
      "cell_type": "code",
      "execution_count": null,
      "id": "f5bbb101",
      "metadata": {
        "id": "f5bbb101",
        "outputId": "e48a093d-8e31-4785-fa77-997c5ab401b1"
      },
      "outputs": [
        {
          "data": {
            "text/plain": [
              "array(['setosa', 'versicolor', 'virginica', 'setosa', 'virginica',\n",
              "       'virginica', 'virginica', 'setosa', 'setosa', 'virginica',\n",
              "       'versicolor', 'setosa', 'virginica', 'virginica', 'versicolor',\n",
              "       'setosa', 'versicolor', 'versicolor', 'setosa', 'setosa',\n",
              "       'versicolor', 'setosa', 'virginica', 'setosa', 'virginica',\n",
              "       'versicolor', 'setosa', 'setosa', 'versicolor', 'versicolor',\n",
              "       'virginica', 'virginica', 'versicolor', 'virginica', 'versicolor',\n",
              "       'setosa', 'versicolor', 'setosa'], dtype=object)"
            ]
          },
          "execution_count": 17,
          "metadata": {},
          "output_type": "execute_result"
        }
      ],
      "source": [
        "from sklearn.ensemble import RandomForestClassifier\n",
        "model =   RandomForestClassifier()\n",
        "model.fit(Xtrain, ytrain)\n",
        "y_model = model.predict(Xtest)\n",
        "y_model"
      ]
    },
    {
      "cell_type": "markdown",
      "id": "01e7fd97",
      "metadata": {
        "id": "01e7fd97"
      },
      "source": [
        "E testar a performance utilizando alguma métrica, no caso, a acurácia."
      ]
    },
    {
      "cell_type": "code",
      "execution_count": null,
      "id": "5c238e95",
      "metadata": {
        "id": "5c238e95",
        "outputId": "3496d363-3a23-4521-f089-1765c6e64460"
      },
      "outputs": [
        {
          "data": {
            "text/plain": [
              "0.7894736842105263"
            ]
          },
          "execution_count": 18,
          "metadata": {},
          "output_type": "execute_result"
        }
      ],
      "source": [
        "from sklearn.metrics import accuracy_score\n",
        "accuracy_score(ytest, y_model)"
      ]
    },
    {
      "cell_type": "markdown",
      "id": "f53ccdb4",
      "metadata": {
        "id": "f53ccdb4"
      },
      "source": [
        "Tradicionalmente na área de machine learning, tentamos melhorar a performance do modelo utilizando outros algorítimos de previsão. No caso, podemos tentar estimar um modelo **Naive Bayes**, importando \"GaussianNB\"."
      ]
    },
    {
      "cell_type": "code",
      "execution_count": null,
      "id": "c5cf9e90",
      "metadata": {
        "id": "c5cf9e90",
        "outputId": "c735aabf-7539-4340-99d2-d4fade137492"
      },
      "outputs": [
        {
          "data": {
            "text/plain": [
              "0.8157894736842105"
            ]
          },
          "execution_count": 19,
          "metadata": {},
          "output_type": "execute_result"
        }
      ],
      "source": [
        "from sklearn.naive_bayes import GaussianNB\n",
        "model = GaussianNB()\n",
        "model.fit(Xtrain, ytrain)\n",
        "y_model = model.predict(Xtest)\n",
        "\n",
        "accuracy_score(ytest, y_model)"
      ]
    }
  ],
  "metadata": {
    "celltoolbar": "Slideshow",
    "kernelspec": {
      "display_name": "Python 3",
      "language": "python",
      "name": "python3"
    },
    "language_info": {
      "codemirror_mode": {
        "name": "ipython",
        "version": 3
      },
      "file_extension": ".py",
      "mimetype": "text/x-python",
      "name": "python",
      "nbconvert_exporter": "python",
      "pygments_lexer": "ipython3",
      "version": "3.8.10"
    },
    "colab": {
      "provenance": [],
      "include_colab_link": true
    }
  },
  "nbformat": 4,
  "nbformat_minor": 5
}