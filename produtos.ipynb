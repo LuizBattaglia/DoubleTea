{
  "cells": [
    {
      "cell_type": "markdown",
      "metadata": {
        "id": "view-in-github",
        "colab_type": "text"
      },
      "source": [
        "<a href=\"https://colab.research.google.com/github/LuizBattaglia/DoubleTea/blob/master/produtos.ipynb\" target=\"_parent\"><img src=\"https://colab.research.google.com/assets/colab-badge.svg\" alt=\"Open In Colab\"/></a>"
      ]
    },
    {
      "cell_type": "markdown",
      "metadata": {
        "id": "CYg_N_kiI8jg"
      },
      "source": [
        "# Introdução\n",
        "\n",
        "O objetivo dessa seção é o de apresentar a relação entre alguns instrumentos financeiros disponíveis no mercado, tendo um ponto de vista macroeconômico.^[Essa seção está baseada em @assafneto]\n",
        "\n",
        "# Taxa básica de juros\n",
        "\n",
        "A taxa básica de juros é, conforme já discutimos, definida pela taxa Selic, servindo como referência para o mercado financeiro.\n",
        "\n",
        "Como também vimos, a Selic é usada também para estabelecer o custo do dinheiro nas operações de mercado aberto com títulos públicos (o *open market* do Banco Central). A taxa média dessas operações em um dia é conhecida no mercado por **Taxa Média Selic (TMS)**.\n",
        "\n",
        "Nesse contexto, a Selic é uma taxa *over*, válida para dias úteis, e definida para operações realizadas com títulos públicos de emissão do Governo Federal e registrados no Sistema Especial de Liquidação e Custódia (SELIC).\n",
        "\n",
        "É a taxa de *mais baixo risco* no mercado financeiro brasileiro, sendo uma espécie de referência para as demais taxas de juros do mercado.\n",
        "\n",
        "A metodologia de cálculo da taxa média diária adotada pelo Banco Central é a seguinte:^[Lembre-se da diferença entre a selic efetiva e a selic definida pelo COPOM.]\n",
        "\n",
        "$$\n",
        "Selic_{\\text{Média}} = \\left [ \\left (\\frac{\\sum_{j=1}^{n} F_j + V_j}{\\sum_{j=1}^{n}  V_j} \\right )^{252} - 1 \\right ] \\times 100\n",
        "$$\n",
        "\n",
        "onde $F_j$ é um fator diário da taxa de juro de cada operação, $V_j$ é o valor de cada operação e $252$ é o número de dias úteis anuais definido pelo Banco Central.^[Dada uma taxa anual de 16%, a taxa equivalente por dia úteil será $Selic_{du} = (1 + 0.16)^{\\frac{1}{252}} -1 = 0.0589\\%$]"
      ]
    },
    {
      "cell_type": "code",
      "execution_count": null,
      "metadata": {
        "id": "_cJT_M4MI8jk"
      },
      "outputs": [],
      "source": [
        "from bcb import sgs\n",
        "from plotnine import *\n",
        "from functools import reduce\n",
        "import pandas as pd"
      ]
    },
    {
      "cell_type": "markdown",
      "metadata": {
        "id": "kLUoa3SgI8jl"
      },
      "source": [
        "Podemos consultar as taxas no [SGS - Sistema Gerenciador de Séries Temporais](https://www3.bcb.gov.br/sgspub/localizarseries/localizarSeries.do?method=prepararTelaLocalizarSeries)\n",
        " - Mercados Financeiros e de capitais\n",
        "  - Indicadores do mercado financeiro\n",
        "   - Taxas de juros"
      ]
    },
    {
      "cell_type": "code",
      "execution_count": null,
      "metadata": {
        "id": "-7edC7UAI8jl"
      },
      "outputs": [],
      "source": [
        "# Selic acumulada no mês anualizada base 252 (%a.a)\n",
        "selic = sgs.get({'selic' : 4189}, start = '1999-01-01').reset_index()\n",
        "\n",
        "(\n",
        "  ggplot(selic, aes(x = 'Date', y = 'selic'))\n",
        " + geom_line(size = 1.2, color='#282f6b')\n",
        ")\n",
        "\n",
        "# Selic diária (%a.d)\n",
        "selic_d = sgs.get({'selic_d' : 11}, start = '1999-01-01').reset_index()\n",
        "\n",
        "# Selic anualizada base 252 diária (%a.a)\n",
        "selic_an = sgs.get({'selic_an' : 1178}, start = '1999-01-01').reset_index()\n",
        "\n",
        "# Selic acumulada no mês (%a.m)\n",
        "selic_m = sgs.get({'selic_m' : 4390}, start = '1999-01-01').reset_index()"
      ]
    },
    {
      "cell_type": "markdown",
      "metadata": {
        "id": "UvAPdXAoI8jl"
      },
      "source": [
        "# Decomposição da Taxa Selic\n",
        "\n",
        "A taxa Selic de um determinado período pode sser decomposta em duas partes: taxa real de juros e taxa de inflação:\n",
        "\n",
        "$$\n",
        "Selic = \\left [(1 + i_{real}) \\times (1 + INF)  \\right ] - 1\n",
        "$$\n",
        "\n",
        "a taxa real por sua vez pode ser desmembrada em\n",
        "\n",
        "$$\n",
        "i_{real} = \\left [(1 + i_{pura}) \\times (1 + i_{risco})  \\right ] - 1\n",
        "$$\n",
        "\n",
        "onde $i_{pura}$ é a taxa livre de risco e $i_{risco}$ é o risco mínimo da economia.\n",
        "\n",
        "Assim, a taxa Selic pode ser apresentada como\n",
        "\n",
        "$$\n",
        "Selic = \\left [(1 + i_{pura}) \\times (1 + i_{risco}) \\times (1 + INF)  \\right ] - 1\n",
        "$$\n",
        "\n",
        "Por exemplo, sendo a Selic fixada em 15.5% a.a., a inflação prevista estando em 4.8% e supondo uma taxa livre de risco de 6%, pode-se calcular a taxa de risco da economia como:\n",
        "\n",
        "$$\n",
        "i_{risco} = \\frac{1.155}{(1.06) \\times (1.048)} - 1 = 3.97 \\nonumber\n",
        "$$\n",
        "\n",
        "# Certificado de Depósito Bancário (CDB)\n",
        "\n",
        "Os CDBs são títulos de renda fixa, representativos de depósitos a prazo realizados por pessoas físicas e jurídicas, e emitidos por Bancos Comerciais/Múltiplos.\n",
        "\n",
        "Os recursos gerados pela colocação desses títulos são destinados principalmente a lastrear operações de financiamento de capital de giro. A subscrição de um CDB constitui-se, nesse sentido, numa forma de empréstimo que um cliente efetua para o banco, tendo como remuneração os juros pagos pela instituição financeira.\n",
        "\n",
        "A remuneração de um CDB pode ser via taxa *prefixada*, *pós-fixada* ou *flutuante*.\n",
        "\n",
        "Podemos consultar as taxas no [SGS - Sistema Gerenciador de Séries Temporais](https://www3.bcb.gov.br/sgspub/localizarseries/localizarSeries.do?method=prepararTelaLocalizarSeries)\n",
        " - Mercados Financeiros e de capitais\n",
        "  - Depósitos a prazo"
      ]
    },
    {
      "cell_type": "code",
      "execution_count": null,
      "metadata": {
        "id": "rG9SZFgfI8jm"
      },
      "outputs": [],
      "source": [
        "# (CDB/RDB) - Taxa média mensal prefixada - Total (% a.a.)\n",
        "cdb_pre = sgs.get({'cdb_pre' : 3954}, start = '1999-01-01').reset_index()\n",
        "\n",
        "# (CDB/RDB) - Taxa média mensal pós-fixada - Total (% a.a.)\n",
        "cdb_pos = sgs.get({'cdb_pos' : 28663}, start = '1999-01-01').reset_index()\n",
        "\n",
        "# (CDB/RDB) - Taxa média flutuante DI total (%a.a) - diária!\n",
        "cdb_f = sgs.get({'cdb_f' : 1157}, start = '1999-01-01').reset_index()\n",
        "\n",
        "# lista de dfs para juntar\n",
        "cdbs = [cdb_pre, cdb_pos, selic]\n",
        "\n",
        "# juntar dados\n",
        "cdbs_df = reduce(lambda left, right: pd.merge(left, right, on = 'Date'), cdbs)\n",
        "\n",
        "# transforma de wide para long\n",
        "cdbs_df_long = cdbs_df.melt(id_vars = ['Date'], value_name = 'taxas')\n",
        "\n",
        "# cria o gráfico\n",
        "(\n",
        " ggplot(cdbs_df_long, aes(x = 'Date', y = 'taxas', color = 'variable'))\n",
        " + geom_line(size = 0.7)\n",
        " + theme_minimal()\n",
        ")"
      ]
    },
    {
      "cell_type": "markdown",
      "metadata": {
        "id": "HqAJioNLI8jm"
      },
      "source": [
        "# Certificado de Depósito Interfinanceiro (CDI)\n",
        "\n",
        "Podemos consultar as taxas no [SGS - Sistema Gerenciador de Séries Temporais](https://www3.bcb.gov.br/sgspub/localizarseries/localizarSeries.do?method=prepararTelaLocalizarSeries)\n",
        " - Mercados Financeiros e de capitais\n",
        "  - Indicadores do mercado financeiro\n",
        "   - Taxas de juros"
      ]
    },
    {
      "cell_type": "code",
      "execution_count": null,
      "metadata": {
        "id": "PfOvL30FI8jm"
      },
      "outputs": [],
      "source": [
        "#\tCDI acumulada no mês anualizada base 252\n",
        "cdi = sgs.get({'cdi' : 4392}, start = '1999-01-01').reset_index()\n",
        "\n",
        "# CDI diária (%a.d)\n",
        "cdi_d = sgs.get({'cdi_d' : 12}, start = '1999-01-01').reset_index()\n",
        "\n",
        "# CDI anualizada base 252 diária (%a.a)\n",
        "cdi_an = sgs.get({'cdi_an' : 4389}, start = '1999-01-01').reset_index()\n",
        "\n",
        "# Selic acumulada no mês (%a.m)\n",
        "cdi_m = sgs.get({'cdi_m' : 4391}, start = '1999-01-01').reset_index()"
      ]
    },
    {
      "cell_type": "code",
      "execution_count": null,
      "metadata": {
        "id": "8A0DlxtLI8jn"
      },
      "outputs": [],
      "source": [
        "dfs = pd.merge(cdi, cdbs_df, on = 'Date').melt(id_vars = ['Date'], value_name = 'taxas')\n",
        "\n",
        "# cria o gráfico\n",
        "(\n",
        " ggplot(dfs, aes(x = 'Date', y = 'taxas', color = 'variable'))\n",
        " + geom_line(size = 0.7)\n",
        " + theme_minimal()\n",
        ")"
      ]
    },
    {
      "cell_type": "markdown",
      "metadata": {
        "id": "38UwXr9zI8jn"
      },
      "source": [
        "# TJLP e TLP\n",
        "\n",
        "A TJLP foi uma taxa de juros aplicada preferencialmente em operações de longo prazo, constituída de maneira a viabilizar as operações de maior maturidade. Foi abandonada em 2018, sendo substituída pela TLP.\n",
        "\n",
        "Para cálculo da TJLP eram consideradas a taxa meta de inflação calculada para o seu período de vigência e as taxas de juros dos títulos da dívida interna e externa do Brasil, admitidas quando de suas respectivas emissões no mercado primário.\n",
        "\n",
        "Podemos obter a sua série, de forma a poder analisar seu valores passados e vigentes (para contratos ainda vigentes)."
      ]
    },
    {
      "cell_type": "code",
      "execution_count": null,
      "metadata": {
        "id": "qeT8N_SoI8jo"
      },
      "outputs": [],
      "source": [
        "# Taxa de juros de longo prazo - TJLP (%a.a)\n",
        "tjlp = sgs.get({'tjlp' : 256}, start = '1999-01-01').reset_index()\n",
        "\n",
        "# cria o gráfico\n",
        "(\n",
        " ggplot(tjlp, aes(x = 'Date', y = 'tjlp'))\n",
        " + geom_line(size = 0.7)\n",
        " + theme_minimal()\n",
        ")"
      ]
    },
    {
      "cell_type": "markdown",
      "metadata": {
        "id": "fHdVdDCJI8jo"
      },
      "source": [
        "Para o caso da TLP, obtemos a parcela de juros usando o código abaixo."
      ]
    },
    {
      "cell_type": "code",
      "execution_count": null,
      "metadata": {
        "id": "Qik7mcI_I8jo"
      },
      "outputs": [],
      "source": [
        "# Jm - Taxa mensal para cálculo da TLP (%a.a)\n",
        "tlp = sgs.get({'tlp' : 27572}, start = '1999-01-01').reset_index()\n",
        "\n",
        "# cria o gráfico\n",
        "(\n",
        " ggplot(tlp, aes(x = 'Date', y = 'tlp'))\n",
        " + geom_line(size = 0.7)\n",
        " + theme_minimal()\n",
        ")"
      ]
    }
  ],
  "metadata": {
    "kernelspec": {
      "display_name": "Python 3 (ipykernel)",
      "language": "python",
      "name": "python3"
    },
    "colab": {
      "provenance": [],
      "include_colab_link": true
    }
  },
  "nbformat": 4,
  "nbformat_minor": 0
}