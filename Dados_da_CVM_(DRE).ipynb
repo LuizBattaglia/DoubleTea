{
  "nbformat": 4,
  "nbformat_minor": 0,
  "metadata": {
    "colab": {
      "name": "Dados da CVM (DRE) ",
      "provenance": [],
      "toc_visible": true
    },
    "kernelspec": {
      "name": "python3",
      "display_name": "Python 3"
    }
  },
  "cells": [
    {
      "cell_type": "markdown",
      "metadata": {
        "id": "wYaKXvSyRXwD"
      },
      "source": [
        "# Baixando dados dos Balanços das Empresas Listadas em Bolsa\n",
        "\n",
        "### Base de Dados CVM\n",
        "\n",
        "http://dados.cvm.gov.br"
      ]
    },
    {
      "cell_type": "markdown",
      "metadata": {
        "id": "UPogmFIYQx3T"
      },
      "source": [
        "**negrito**# Obtendo Dados"
      ]
    },
    {
      "cell_type": "code",
      "metadata": {
        "id": "Kktk0IYMfksM",
        "colab": {
          "base_uri": "https://localhost:8080/"
        },
        "outputId": "54fa96c4-44f8-44a4-d708-41b4afda8160"
      },
      "source": [
        "!pip install wget"
      ],
      "execution_count": null,
      "outputs": [
        {
          "output_type": "stream",
          "text": [
            "Collecting wget\n",
            "  Downloading https://files.pythonhosted.org/packages/47/6a/62e288da7bcda82b935ff0c6cfe542970f04e29c756b0e147251b2fb251f/wget-3.2.zip\n",
            "Building wheels for collected packages: wget\n",
            "  Building wheel for wget (setup.py) ... \u001b[?25l\u001b[?25hdone\n",
            "  Created wheel for wget: filename=wget-3.2-cp37-none-any.whl size=9681 sha256=cbee3d99fd053cf7db35adb6a61a3d382edb7601662bac872af10aee2218ca66\n",
            "  Stored in directory: /root/.cache/pip/wheels/40/15/30/7d8f7cea2902b4db79e3fea550d7d7b85ecb27ef992b618f3f\n",
            "Successfully built wget\n",
            "Installing collected packages: wget\n",
            "Successfully installed wget-3.2\n"
          ],
          "name": "stdout"
        }
      ]
    },
    {
      "cell_type": "code",
      "metadata": {
        "id": "8YM9CQhgS7wG"
      },
      "source": [
        "import pandas as pd\n",
        "import wget\n",
        "from zipfile import ZipFile\n",
        "from google.colab.data_table import DataTable\n",
        "import plotly.graph_objects as go\n",
        "import numpy as np\n",
        "import matplotlib.pyplot as plt\n",
        "from ipywidgets import interact"
      ],
      "execution_count": null,
      "outputs": []
    },
    {
      "cell_type": "code",
      "metadata": {
        "id": "Ar6zTdOBTAwL"
      },
      "source": [
        "url_base = 'http://dados.cvm.gov.br/dados/CIA_ABERTA/DOC/DFP/DADOS/'"
      ],
      "execution_count": null,
      "outputs": []
    },
    {
      "cell_type": "code",
      "metadata": {
        "id": "11Sv_DLPI0hp",
        "colab": {
          "base_uri": "https://localhost:8080/"
        },
        "outputId": "7eec5f06-8fa5-47ac-9cfc-fa8181049e37"
      },
      "source": [
        "arquivos_zip = []\n",
        "for ano in range(2010,2021):\n",
        "  arquivos_zip.append(f'dfp_cia_aberta_{ano}.zip')\n",
        "\n",
        "arquivos_zip"
      ],
      "execution_count": null,
      "outputs": [
        {
          "output_type": "execute_result",
          "data": {
            "text/plain": [
              "['dfp_cia_aberta_2010.zip',\n",
              " 'dfp_cia_aberta_2011.zip',\n",
              " 'dfp_cia_aberta_2012.zip',\n",
              " 'dfp_cia_aberta_2013.zip',\n",
              " 'dfp_cia_aberta_2014.zip',\n",
              " 'dfp_cia_aberta_2015.zip',\n",
              " 'dfp_cia_aberta_2016.zip',\n",
              " 'dfp_cia_aberta_2017.zip',\n",
              " 'dfp_cia_aberta_2018.zip',\n",
              " 'dfp_cia_aberta_2019.zip',\n",
              " 'dfp_cia_aberta_2020.zip']"
            ]
          },
          "metadata": {
            "tags": []
          },
          "execution_count": 4
        }
      ]
    },
    {
      "cell_type": "code",
      "metadata": {
        "id": "dt2h-VTkg4j8"
      },
      "source": [
        "for arq in arquivos_zip:\n",
        "  wget.download(url_base+arq)"
      ],
      "execution_count": null,
      "outputs": []
    },
    {
      "cell_type": "code",
      "metadata": {
        "id": "vDmuDRYANPRK"
      },
      "source": [
        "for arq in arquivos_zip:\n",
        "  ZipFile(arq, 'r').extractall('CVM')"
      ],
      "execution_count": null,
      "outputs": []
    },
    {
      "cell_type": "code",
      "metadata": {
        "id": "yWIvValnrqtm"
      },
      "source": [
        "!mkdir DADOS"
      ],
      "execution_count": null,
      "outputs": []
    },
    {
      "cell_type": "code",
      "metadata": {
        "id": "YyL31wqNN06_"
      },
      "source": [
        "nomes = ['DRE_con', 'DRE_ind',]\n",
        "for nome in nomes:\n",
        "  arquivo = pd.DataFrame()\n",
        "  for ano in range(2010,2021):\n",
        "    arquivo = pd.concat([arquivo, pd.read_csv(f'CVM/dfp_cia_aberta_{nome}_{ano}.csv', sep=';', decimal=',', encoding='ISO-8859-1')])\n",
        "  arquivo.to_csv(f'DADOS/dfp_cia_aberta_{nome}_2010-2020.csv', index=False)\n"
      ],
      "execution_count": null,
      "outputs": []
    },
    {
      "cell_type": "code",
      "metadata": {
        "id": "mG1uEw_SRcO4"
      },
      "source": [
        "dre = pd.read_csv('/content/DADOS/dfp_cia_aberta_DRE_ind_2010-2020.csv')"
      ],
      "execution_count": null,
      "outputs": []
    },
    {
      "cell_type": "code",
      "metadata": {
        "id": "XHnXMVwvswVI",
        "colab": {
          "base_uri": "https://localhost:8080/"
        },
        "outputId": "51e33d0c-1fe4-4a71-fc31-02adb5be0652"
      },
      "source": [
        "dre = dre[dre['ORDEM_EXERC'] == \"ÚLTIMO\"]\n",
        "dre"
      ],
      "execution_count": null,
      "outputs": [
        {
          "output_type": "execute_result",
          "data": {
            "text/html": [
              "<div>\n",
              "<style scoped>\n",
              "    .dataframe tbody tr th:only-of-type {\n",
              "        vertical-align: middle;\n",
              "    }\n",
              "\n",
              "    .dataframe tbody tr th {\n",
              "        vertical-align: top;\n",
              "    }\n",
              "\n",
              "    .dataframe thead th {\n",
              "        text-align: right;\n",
              "    }\n",
              "</style>\n",
              "<table border=\"1\" class=\"dataframe\">\n",
              "  <thead>\n",
              "    <tr style=\"text-align: right;\">\n",
              "      <th></th>\n",
              "      <th>CNPJ_CIA</th>\n",
              "      <th>DT_REFER</th>\n",
              "      <th>VERSAO</th>\n",
              "      <th>DENOM_CIA</th>\n",
              "      <th>CD_CVM</th>\n",
              "      <th>GRUPO_DFP</th>\n",
              "      <th>MOEDA</th>\n",
              "      <th>ESCALA_MOEDA</th>\n",
              "      <th>ORDEM_EXERC</th>\n",
              "      <th>DT_INI_EXERC</th>\n",
              "      <th>DT_FIM_EXERC</th>\n",
              "      <th>CD_CONTA</th>\n",
              "      <th>DS_CONTA</th>\n",
              "      <th>VL_CONTA</th>\n",
              "      <th>ST_CONTA_FIXA</th>\n",
              "    </tr>\n",
              "  </thead>\n",
              "  <tbody>\n",
              "    <tr>\n",
              "      <th>1</th>\n",
              "      <td>00.000.000/0001-91</td>\n",
              "      <td>2010-12-31</td>\n",
              "      <td>3</td>\n",
              "      <td>BCO BRASIL S.A.</td>\n",
              "      <td>1023</td>\n",
              "      <td>DF Individual - Demonstração do Resultado</td>\n",
              "      <td>REAL</td>\n",
              "      <td>MIL</td>\n",
              "      <td>ÚLTIMO</td>\n",
              "      <td>2010-01-01</td>\n",
              "      <td>2010-12-31</td>\n",
              "      <td>3.01</td>\n",
              "      <td>Receitas da Intermediação Financeira</td>\n",
              "      <td>7.217390e+07</td>\n",
              "      <td>S</td>\n",
              "    </tr>\n",
              "    <tr>\n",
              "      <th>3</th>\n",
              "      <td>00.000.000/0001-91</td>\n",
              "      <td>2010-12-31</td>\n",
              "      <td>3</td>\n",
              "      <td>BCO BRASIL S.A.</td>\n",
              "      <td>1023</td>\n",
              "      <td>DF Individual - Demonstração do Resultado</td>\n",
              "      <td>REAL</td>\n",
              "      <td>MIL</td>\n",
              "      <td>ÚLTIMO</td>\n",
              "      <td>2010-01-01</td>\n",
              "      <td>2010-12-31</td>\n",
              "      <td>3.01.01</td>\n",
              "      <td>Operações de Crédito</td>\n",
              "      <td>4.739110e+07</td>\n",
              "      <td>N</td>\n",
              "    </tr>\n",
              "    <tr>\n",
              "      <th>5</th>\n",
              "      <td>00.000.000/0001-91</td>\n",
              "      <td>2010-12-31</td>\n",
              "      <td>3</td>\n",
              "      <td>BCO BRASIL S.A.</td>\n",
              "      <td>1023</td>\n",
              "      <td>DF Individual - Demonstração do Resultado</td>\n",
              "      <td>REAL</td>\n",
              "      <td>MIL</td>\n",
              "      <td>ÚLTIMO</td>\n",
              "      <td>2010-01-01</td>\n",
              "      <td>2010-12-31</td>\n",
              "      <td>3.01.02</td>\n",
              "      <td>Operações de Arrendamento Mercantil</td>\n",
              "      <td>4.037200e+04</td>\n",
              "      <td>N</td>\n",
              "    </tr>\n",
              "    <tr>\n",
              "      <th>7</th>\n",
              "      <td>00.000.000/0001-91</td>\n",
              "      <td>2010-12-31</td>\n",
              "      <td>3</td>\n",
              "      <td>BCO BRASIL S.A.</td>\n",
              "      <td>1023</td>\n",
              "      <td>DF Individual - Demonstração do Resultado</td>\n",
              "      <td>REAL</td>\n",
              "      <td>MIL</td>\n",
              "      <td>ÚLTIMO</td>\n",
              "      <td>2010-01-01</td>\n",
              "      <td>2010-12-31</td>\n",
              "      <td>3.01.03</td>\n",
              "      <td>Resultado de Operações com TVM</td>\n",
              "      <td>2.157491e+07</td>\n",
              "      <td>N</td>\n",
              "    </tr>\n",
              "    <tr>\n",
              "      <th>9</th>\n",
              "      <td>00.000.000/0001-91</td>\n",
              "      <td>2010-12-31</td>\n",
              "      <td>3</td>\n",
              "      <td>BCO BRASIL S.A.</td>\n",
              "      <td>1023</td>\n",
              "      <td>DF Individual - Demonstração do Resultado</td>\n",
              "      <td>REAL</td>\n",
              "      <td>MIL</td>\n",
              "      <td>ÚLTIMO</td>\n",
              "      <td>2010-01-01</td>\n",
              "      <td>2010-12-31</td>\n",
              "      <td>3.01.04</td>\n",
              "      <td>Resultado de IFD</td>\n",
              "      <td>-1.231410e+06</td>\n",
              "      <td>N</td>\n",
              "    </tr>\n",
              "    <tr>\n",
              "      <th>...</th>\n",
              "      <td>...</td>\n",
              "      <td>...</td>\n",
              "      <td>...</td>\n",
              "      <td>...</td>\n",
              "      <td>...</td>\n",
              "      <td>...</td>\n",
              "      <td>...</td>\n",
              "      <td>...</td>\n",
              "      <td>...</td>\n",
              "      <td>...</td>\n",
              "      <td>...</td>\n",
              "      <td>...</td>\n",
              "      <td>...</td>\n",
              "      <td>...</td>\n",
              "      <td>...</td>\n",
              "    </tr>\n",
              "    <tr>\n",
              "      <th>459513</th>\n",
              "      <td>97.837.181/0001-47</td>\n",
              "      <td>2020-12-31</td>\n",
              "      <td>1</td>\n",
              "      <td>DURATEX S.A.</td>\n",
              "      <td>21091</td>\n",
              "      <td>DF Individual - Demonstração do Resultado</td>\n",
              "      <td>REAL</td>\n",
              "      <td>MIL</td>\n",
              "      <td>ÚLTIMO</td>\n",
              "      <td>2020-01-01</td>\n",
              "      <td>2020-12-31</td>\n",
              "      <td>3.99</td>\n",
              "      <td>Lucro por Ação - (Reais / Ação)</td>\n",
              "      <td>0.000000e+00</td>\n",
              "      <td>N</td>\n",
              "    </tr>\n",
              "    <tr>\n",
              "      <th>459515</th>\n",
              "      <td>97.837.181/0001-47</td>\n",
              "      <td>2020-12-31</td>\n",
              "      <td>1</td>\n",
              "      <td>DURATEX S.A.</td>\n",
              "      <td>21091</td>\n",
              "      <td>DF Individual - Demonstração do Resultado</td>\n",
              "      <td>REAL</td>\n",
              "      <td>MIL</td>\n",
              "      <td>ÚLTIMO</td>\n",
              "      <td>2020-01-01</td>\n",
              "      <td>2020-12-31</td>\n",
              "      <td>3.99.01</td>\n",
              "      <td>Lucro Básico por Ação</td>\n",
              "      <td>0.000000e+00</td>\n",
              "      <td>N</td>\n",
              "    </tr>\n",
              "    <tr>\n",
              "      <th>459517</th>\n",
              "      <td>97.837.181/0001-47</td>\n",
              "      <td>2020-12-31</td>\n",
              "      <td>1</td>\n",
              "      <td>DURATEX S.A.</td>\n",
              "      <td>21091</td>\n",
              "      <td>DF Individual - Demonstração do Resultado</td>\n",
              "      <td>REAL</td>\n",
              "      <td>MIL</td>\n",
              "      <td>ÚLTIMO</td>\n",
              "      <td>2020-01-01</td>\n",
              "      <td>2020-12-31</td>\n",
              "      <td>3.99.01.01</td>\n",
              "      <td>ON</td>\n",
              "      <td>6.575000e-01</td>\n",
              "      <td>N</td>\n",
              "    </tr>\n",
              "    <tr>\n",
              "      <th>459519</th>\n",
              "      <td>97.837.181/0001-47</td>\n",
              "      <td>2020-12-31</td>\n",
              "      <td>1</td>\n",
              "      <td>DURATEX S.A.</td>\n",
              "      <td>21091</td>\n",
              "      <td>DF Individual - Demonstração do Resultado</td>\n",
              "      <td>REAL</td>\n",
              "      <td>MIL</td>\n",
              "      <td>ÚLTIMO</td>\n",
              "      <td>2020-01-01</td>\n",
              "      <td>2020-12-31</td>\n",
              "      <td>3.99.02</td>\n",
              "      <td>Lucro Diluído por Ação</td>\n",
              "      <td>0.000000e+00</td>\n",
              "      <td>N</td>\n",
              "    </tr>\n",
              "    <tr>\n",
              "      <th>459521</th>\n",
              "      <td>97.837.181/0001-47</td>\n",
              "      <td>2020-12-31</td>\n",
              "      <td>1</td>\n",
              "      <td>DURATEX S.A.</td>\n",
              "      <td>21091</td>\n",
              "      <td>DF Individual - Demonstração do Resultado</td>\n",
              "      <td>REAL</td>\n",
              "      <td>MIL</td>\n",
              "      <td>ÚLTIMO</td>\n",
              "      <td>2020-01-01</td>\n",
              "      <td>2020-12-31</td>\n",
              "      <td>3.99.02.01</td>\n",
              "      <td>ON</td>\n",
              "      <td>6.532000e-01</td>\n",
              "      <td>N</td>\n",
              "    </tr>\n",
              "  </tbody>\n",
              "</table>\n",
              "<p>231465 rows × 15 columns</p>\n",
              "</div>"
            ],
            "text/plain": [
              "                  CNPJ_CIA    DT_REFER  ...      VL_CONTA ST_CONTA_FIXA\n",
              "1       00.000.000/0001-91  2010-12-31  ...  7.217390e+07             S\n",
              "3       00.000.000/0001-91  2010-12-31  ...  4.739110e+07             N\n",
              "5       00.000.000/0001-91  2010-12-31  ...  4.037200e+04             N\n",
              "7       00.000.000/0001-91  2010-12-31  ...  2.157491e+07             N\n",
              "9       00.000.000/0001-91  2010-12-31  ... -1.231410e+06             N\n",
              "...                    ...         ...  ...           ...           ...\n",
              "459513  97.837.181/0001-47  2020-12-31  ...  0.000000e+00             N\n",
              "459515  97.837.181/0001-47  2020-12-31  ...  0.000000e+00             N\n",
              "459517  97.837.181/0001-47  2020-12-31  ...  6.575000e-01             N\n",
              "459519  97.837.181/0001-47  2020-12-31  ...  0.000000e+00             N\n",
              "459521  97.837.181/0001-47  2020-12-31  ...  6.532000e-01             N\n",
              "\n",
              "[231465 rows x 15 columns]"
            ]
          },
          "metadata": {
            "tags": []
          },
          "execution_count": 10
        }
      ]
    },
    {
      "cell_type": "markdown",
      "metadata": {
        "id": "3fTWZl0OIX3e"
      },
      "source": [
        "# Campos de interesse\n"
      ]
    },
    {
      "cell_type": "code",
      "metadata": {
        "colab": {
          "base_uri": "https://localhost:8080/",
          "height": 406
        },
        "id": "h422gLvDFAbE",
        "outputId": "a920afd9-6164-41ff-a690-0e442269d1e5"
      },
      "source": [
        "df_tab = dre[['CD_CVM', 'DT_REFER', 'DENOM_CIA',\t'CD_CONTA',\t'DS_CONTA', 'VL_CONTA']]\n",
        "df_tab"
      ],
      "execution_count": null,
      "outputs": [
        {
          "output_type": "execute_result",
          "data": {
            "text/html": [
              "<div>\n",
              "<style scoped>\n",
              "    .dataframe tbody tr th:only-of-type {\n",
              "        vertical-align: middle;\n",
              "    }\n",
              "\n",
              "    .dataframe tbody tr th {\n",
              "        vertical-align: top;\n",
              "    }\n",
              "\n",
              "    .dataframe thead th {\n",
              "        text-align: right;\n",
              "    }\n",
              "</style>\n",
              "<table border=\"1\" class=\"dataframe\">\n",
              "  <thead>\n",
              "    <tr style=\"text-align: right;\">\n",
              "      <th></th>\n",
              "      <th>CD_CVM</th>\n",
              "      <th>DT_REFER</th>\n",
              "      <th>DENOM_CIA</th>\n",
              "      <th>CD_CONTA</th>\n",
              "      <th>DS_CONTA</th>\n",
              "      <th>VL_CONTA</th>\n",
              "    </tr>\n",
              "  </thead>\n",
              "  <tbody>\n",
              "    <tr>\n",
              "      <th>1</th>\n",
              "      <td>1023</td>\n",
              "      <td>2010-12-31</td>\n",
              "      <td>BCO BRASIL S.A.</td>\n",
              "      <td>3.01</td>\n",
              "      <td>Receitas da Intermediação Financeira</td>\n",
              "      <td>7.217390e+07</td>\n",
              "    </tr>\n",
              "    <tr>\n",
              "      <th>3</th>\n",
              "      <td>1023</td>\n",
              "      <td>2010-12-31</td>\n",
              "      <td>BCO BRASIL S.A.</td>\n",
              "      <td>3.01.01</td>\n",
              "      <td>Operações de Crédito</td>\n",
              "      <td>4.739110e+07</td>\n",
              "    </tr>\n",
              "    <tr>\n",
              "      <th>5</th>\n",
              "      <td>1023</td>\n",
              "      <td>2010-12-31</td>\n",
              "      <td>BCO BRASIL S.A.</td>\n",
              "      <td>3.01.02</td>\n",
              "      <td>Operações de Arrendamento Mercantil</td>\n",
              "      <td>4.037200e+04</td>\n",
              "    </tr>\n",
              "    <tr>\n",
              "      <th>7</th>\n",
              "      <td>1023</td>\n",
              "      <td>2010-12-31</td>\n",
              "      <td>BCO BRASIL S.A.</td>\n",
              "      <td>3.01.03</td>\n",
              "      <td>Resultado de Operações com TVM</td>\n",
              "      <td>2.157491e+07</td>\n",
              "    </tr>\n",
              "    <tr>\n",
              "      <th>9</th>\n",
              "      <td>1023</td>\n",
              "      <td>2010-12-31</td>\n",
              "      <td>BCO BRASIL S.A.</td>\n",
              "      <td>3.01.04</td>\n",
              "      <td>Resultado de IFD</td>\n",
              "      <td>-1.231410e+06</td>\n",
              "    </tr>\n",
              "    <tr>\n",
              "      <th>...</th>\n",
              "      <td>...</td>\n",
              "      <td>...</td>\n",
              "      <td>...</td>\n",
              "      <td>...</td>\n",
              "      <td>...</td>\n",
              "      <td>...</td>\n",
              "    </tr>\n",
              "    <tr>\n",
              "      <th>459513</th>\n",
              "      <td>21091</td>\n",
              "      <td>2020-12-31</td>\n",
              "      <td>DURATEX S.A.</td>\n",
              "      <td>3.99</td>\n",
              "      <td>Lucro por Ação - (Reais / Ação)</td>\n",
              "      <td>0.000000e+00</td>\n",
              "    </tr>\n",
              "    <tr>\n",
              "      <th>459515</th>\n",
              "      <td>21091</td>\n",
              "      <td>2020-12-31</td>\n",
              "      <td>DURATEX S.A.</td>\n",
              "      <td>3.99.01</td>\n",
              "      <td>Lucro Básico por Ação</td>\n",
              "      <td>0.000000e+00</td>\n",
              "    </tr>\n",
              "    <tr>\n",
              "      <th>459517</th>\n",
              "      <td>21091</td>\n",
              "      <td>2020-12-31</td>\n",
              "      <td>DURATEX S.A.</td>\n",
              "      <td>3.99.01.01</td>\n",
              "      <td>ON</td>\n",
              "      <td>6.575000e-01</td>\n",
              "    </tr>\n",
              "    <tr>\n",
              "      <th>459519</th>\n",
              "      <td>21091</td>\n",
              "      <td>2020-12-31</td>\n",
              "      <td>DURATEX S.A.</td>\n",
              "      <td>3.99.02</td>\n",
              "      <td>Lucro Diluído por Ação</td>\n",
              "      <td>0.000000e+00</td>\n",
              "    </tr>\n",
              "    <tr>\n",
              "      <th>459521</th>\n",
              "      <td>21091</td>\n",
              "      <td>2020-12-31</td>\n",
              "      <td>DURATEX S.A.</td>\n",
              "      <td>3.99.02.01</td>\n",
              "      <td>ON</td>\n",
              "      <td>6.532000e-01</td>\n",
              "    </tr>\n",
              "  </tbody>\n",
              "</table>\n",
              "<p>231465 rows × 6 columns</p>\n",
              "</div>"
            ],
            "text/plain": [
              "        CD_CVM    DT_REFER  ...                              DS_CONTA      VL_CONTA\n",
              "1         1023  2010-12-31  ...  Receitas da Intermediação Financeira  7.217390e+07\n",
              "3         1023  2010-12-31  ...                  Operações de Crédito  4.739110e+07\n",
              "5         1023  2010-12-31  ...   Operações de Arrendamento Mercantil  4.037200e+04\n",
              "7         1023  2010-12-31  ...        Resultado de Operações com TVM  2.157491e+07\n",
              "9         1023  2010-12-31  ...                      Resultado de IFD -1.231410e+06\n",
              "...        ...         ...  ...                                   ...           ...\n",
              "459513   21091  2020-12-31  ...       Lucro por Ação - (Reais / Ação)  0.000000e+00\n",
              "459515   21091  2020-12-31  ...                 Lucro Básico por Ação  0.000000e+00\n",
              "459517   21091  2020-12-31  ...                                    ON  6.575000e-01\n",
              "459519   21091  2020-12-31  ...                Lucro Diluído por Ação  0.000000e+00\n",
              "459521   21091  2020-12-31  ...                                    ON  6.532000e-01\n",
              "\n",
              "[231465 rows x 6 columns]"
            ]
          },
          "metadata": {
            "tags": []
          },
          "execution_count": 12
        }
      ]
    },
    {
      "cell_type": "markdown",
      "metadata": {
        "id": "_jafhdikIzvQ"
      },
      "source": [
        "# Todo\n",
        "* Incluir informação do setor\n",
        "* Selecionar Setor\n",
        "* Resumir informações por setor (Faturamento; Margem Bruta, Margem Líquida, Ebitda; etc\n",
        "* Exportar Dataframe para Excel\n"
      ]
    },
    {
      "cell_type": "code",
      "metadata": {
        "id": "pLLTf2MPKVhw"
      },
      "source": [
        "df_tab.to_csv(\"dadosdf.csv\", encoding=\"utf-8\",  index=False )\n"
      ],
      "execution_count": null,
      "outputs": []
    }
  ]
}